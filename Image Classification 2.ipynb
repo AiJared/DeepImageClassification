{
 "cells": [
  {
   "cell_type": "markdown",
   "id": "9e14e0a7",
   "metadata": {},
   "source": [
    "# Image Classification Using TensorFlow"
   ]
  },
  {
   "cell_type": "markdown",
   "id": "37a320f0",
   "metadata": {},
   "source": [
    "## Setup\n",
    "### Import TensorFlow and other necessary libraries"
   ]
  },
  {
   "cell_type": "code",
   "execution_count": null,
   "id": "cd82fa82",
   "metadata": {},
   "outputs": [],
   "source": []
  }
 ],
 "metadata": {
  "kernelspec": {
   "display_name": "Python 3 (ipykernel)",
   "language": "python",
   "name": "python3"
  },
  "language_info": {
   "codemirror_mode": {
    "name": "ipython",
    "version": 3
   },
   "file_extension": ".py",
   "mimetype": "text/x-python",
   "name": "python",
   "nbconvert_exporter": "python",
   "pygments_lexer": "ipython3",
   "version": "3.10.6"
  }
 },
 "nbformat": 4,
 "nbformat_minor": 5
}
